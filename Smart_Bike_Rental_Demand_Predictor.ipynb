{
 "cells": [
  {
   "cell_type": "markdown",
   "id": "18dd6ce4",
   "metadata": {},
   "source": [
    "\n",
    "# 🚲 Smart Bike Rental Demand Predictor\n",
    "\n",
    "This project aims to build a predictive model for bike rental demand using historical usage patterns and environmental data.\n",
    "We use the UCI Bike Sharing Dataset which includes daily and hourly aggregated bike rental data from a system in Washington, D.C.\n"
   ]
  },
  {
   "cell_type": "markdown",
   "id": "a1788221",
   "metadata": {},
   "source": [
    "\n",
    "## 📁 Dataset Description\n",
    "\n",
    "==========================================\n",
    "Bike Sharing Dataset\n",
    "==========================================\n",
    "\n",
    "Hadi Fanaee-T\n",
    "\n",
    "Laboratory of Artificial Intelligence and Decision Support (LIAAD), University of Porto\n",
    "INESC Porto, Campus da FEUP\n",
    "Rua Dr. Roberto Frias, 378\n",
    "4200 - 465 Porto, Portugal\n",
    "\n",
    "\n",
    "=========================================\n",
    "Background \n",
    "=========================================\n",
    "\n",
    "Bike sharing systems are new generation of traditional bike rentals where whole process from membership, rental and return \n",
    "back has become automatic. Through these systems, user is able to easily rent a bike from a particular position and return \n",
    "back at another position. Currently, there are about over 500 bike-sharing programs around the world which is composed of \n",
    "over 500 thousands bicycles. Today, there exists great interest in these systems due to their important role in traffic, \n",
    "environmental and health issues. \n",
    "\n",
    "Apart from interesting real world applications of bike sharing systems, the char...\n",
    "\n",
    "We will primarily use the `day.csv` and `hour.csv` datasets which include features such as:\n",
    "- Season, holiday, working day\n",
    "- Weather situation\n",
    "- Temperature, humidity, wind speed\n",
    "- Casual and registered users\n"
   ]
  },
  {
   "cell_type": "code",
   "execution_count": null,
   "id": "5af4c061",
   "metadata": {},
   "outputs": [],
   "source": [
    "\n",
    "import pandas as pd\n",
    "\n",
    "# Load datasets\n",
    "day_df = pd.read_csv(\"day.csv\")\n",
    "hour_df = pd.read_csv(\"hour.csv\")\n",
    "\n",
    "# Display first few rows\n",
    "day_df.head()\n"
   ]
  },
  {
   "cell_type": "code",
   "execution_count": null,
   "id": "4594d097",
   "metadata": {},
   "outputs": [],
   "source": [
    "\n",
    "import matplotlib.pyplot as plt\n",
    "import seaborn as sns\n",
    "\n",
    "# Plot rental counts by season\n",
    "sns.boxplot(data=day_df, x='season', y='cnt')\n",
    "plt.title('Rental Demand by Season')\n",
    "plt.show()\n"
   ]
  },
  {
   "cell_type": "code",
   "execution_count": null,
   "id": "73a320f6",
   "metadata": {},
   "outputs": [],
   "source": [
    "\n",
    "# Convert date column to datetime\n",
    "day_df['dteday'] = pd.to_datetime(day_df['dteday'])\n",
    "day_df['year'] = day_df['dteday'].dt.year\n",
    "day_df['month'] = day_df['dteday'].dt.month\n",
    "\n",
    "# Encode categorical variables\n",
    "categorical_features = ['season', 'weathersit', 'holiday', 'workingday']\n",
    "day_df = pd.get_dummies(day_df, columns=categorical_features, drop_first=True)\n",
    "\n",
    "day_df.head()\n"
   ]
  },
  {
   "cell_type": "code",
   "execution_count": null,
   "id": "6b6974fb",
   "metadata": {},
   "outputs": [],
   "source": [
    "\n",
    "from sklearn.model_selection import train_test_split\n",
    "from sklearn.ensemble import RandomForestRegressor\n",
    "from sklearn.metrics import mean_squared_error, r2_score\n",
    "\n",
    "# Features and target\n",
    "X = day_df.drop(['instant', 'dteday', 'casual', 'registered', 'cnt'], axis=1)\n",
    "y = day_df['cnt']\n",
    "\n",
    "# Split data\n",
    "X_train, X_test, y_train, y_test = train_test_split(X, y, test_size=0.2, random_state=42)\n",
    "\n",
    "# Train model\n",
    "model = RandomForestRegressor(n_estimators=100, random_state=42)\n",
    "model.fit(X_train, y_train)\n",
    "\n",
    "# Predict and evaluate\n",
    "y_pred = model.predict(X_test)\n",
    "rmse = mean_squared_error(y_test, y_pred, squared=False)\n",
    "r2 = r2_score(y_test, y_pred)\n",
    "\n",
    "print(f\"RMSE: {rmse:.2f}\")\n",
    "print(f\"R^2 Score: {r2:.2f}\")\n"
   ]
  },
  {
   "cell_type": "markdown",
   "id": "dca6e092",
   "metadata": {},
   "source": [
    "\n",
    "## ✅ Conclusion\n",
    "\n",
    "- The bike rental demand shows clear patterns based on season and weather.\n",
    "- A Random Forest model provides a good prediction baseline with strong performance metrics.\n",
    "- This model can help optimize resource allocation for bike sharing systems.\n",
    "\n",
    "Further improvements could include hyperparameter tuning, additional time series modeling, and usage of the `hour.csv` dataset.\n"
   ]
  }
 ],
 "metadata": {},
 "nbformat": 4,
 "nbformat_minor": 5
}
